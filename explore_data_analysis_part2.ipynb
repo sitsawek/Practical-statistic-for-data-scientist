{
 "cells": [
  {
   "cell_type": "markdown",
   "metadata": {},
   "source": [
    "***"
   ]
  },
  {
   "cell_type": "markdown",
   "metadata": {},
   "source": [
    "## Estimate of Location\n",
    "### Key Terms for Estimates of Location"
   ]
  },
  {
   "cell_type": "markdown",
   "metadata": {},
   "source": [
    "**Mean**\n",
    "+ The sum of all values divided by the number of values.\n",
    "+ Synonyms: average\n",
    "+ Mean=x=∑Ni xi / N\n",
    "\n",
    "**Weighted Mean**\n",
    "+ The sum of all values times a weight divided by the sum of the weights.\n",
    "+ Synonyms: weighted average\n",
    "Ex: (w1x1+w2x2+wnxn)/sum(wn)\n",
    "\n",
    "**Median**\n",
    "+ The value such that one-half of the data lies above and below.\n",
    "+ Synonyms: 50th percentile\n",
    "\n",
    "**Weighted Median**\n",
    "+ The value such that on-half of the sum of the weights lies above and below the sorted data.\n",
    "EX: value = [3, 4, 6, 10]\n",
    "weight = [1, 2, 3, 5]\n",
    "1.sorted value\n",
    "2.cum sum weight\n",
    "3.each running cum sum divide by total sum weight and find which value equal 50% off that calculate.\n",
    "https://www.datablick.com/blog/2017/7/3/weighted-medians-for-weighted-data-in-tableau\n",
    "\n",
    "\n",
    "**Trimmed Mean**\n",
    "+ The average of all values after dropping a fixed number of extreme values.\n",
    "+ Synonyms: trucated mean\n",
    "Ex: {3 5 1 2 4} --> sorted to --> {1 2 3 4 5} --> trimed 1 and 5 then --> (2+3+4)/3\n",
    "\n",
    "**Robust**\n",
    "+ Not sensitive to extreme values.\n",
    "+ Synonyms: resistant\n",
    "\n",
    "**Outlier**\n",
    "+ A data value that is very different from most of the data.(Extreme case)\n",
    "+ Synonyms: extreme value"
   ]
  },
  {
   "cell_type": "markdown",
   "metadata": {},
   "source": [
    "#### Key Ideas\n",
    "+ 1.The basic metric for location is the mean, but it can be sensitive to extreme values (outlier)\n",
    "+ 2.Other metrics (median, trimmed mean) are more robust"
   ]
  },
  {
   "cell_type": "markdown",
   "metadata": {},
   "source": []
  }
 ],
 "metadata": {
  "kernelspec": {
   "display_name": "Python 3.9.9 64-bit",
   "language": "python",
   "name": "python3"
  },
  "language_info": {
   "name": "python",
   "version": "3.9.9"
  },
  "orig_nbformat": 4,
  "vscode": {
   "interpreter": {
    "hash": "aee8b7b246df8f9039afb4144a1f6fd8d2ca17a180786b69acc140d282b71a49"
   }
  }
 },
 "nbformat": 4,
 "nbformat_minor": 2
}
