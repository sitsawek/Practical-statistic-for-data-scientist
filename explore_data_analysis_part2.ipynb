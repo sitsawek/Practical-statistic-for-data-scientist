{
 "cells": [
  {
   "cell_type": "markdown",
   "metadata": {},
   "source": [
    "***"
   ]
  },
  {
   "cell_type": "markdown",
   "metadata": {},
   "source": [
    "## Estimate of Location\n",
    "### Key Terms for Estimates of Location"
   ]
  },
  {
   "cell_type": "markdown",
   "metadata": {},
   "source": [
    "**Mean**\n",
    "+ The sum of all values divided by the number of values.\n",
    "+ Synonyms: average\n",
    "+ Mean=x=∑Ni xi / N\n",
    "\n",
    "**Weighted Mean**\n",
    "+ The sum of all values times a weight divided by the sum of the weights.\n",
    "+ Synonyms: weighted average\n",
    "Ex: (w1x1+w2x2+wnxn)/sum(wn)\n",
    "\n",
    "**Median**\n",
    "+ The value such that one-half of the data lies above and below.\n",
    "+ Synonyms: 50th percentile\n",
    "\n",
    "**Weighted Median**\n",
    "+ The value such that on-half of the sum of the weights lies above and below the sorted data.\n",
    "EX: value = [3, 4, 6, 10]\n",
    "weight = [1, 2, 3, 5]\n",
    "1.sorted value\n",
    "2.cum sum weight\n",
    "3.each running cum sum divide by total sum weight and find which value equal 50% off that calculate.\n",
    "https://www.datablick.com/blog/2017/7/3/weighted-medians-for-weighted-data-in-tableau\n",
    "\n",
    "\n",
    "**Trimmed Mean**\n",
    "+ The average of all values after dropping a fixed number of extreme values.\n",
    "+ Synonyms: trucated mean\n",
    "Ex: {3 5 1 2 4} --> sorted to --> {1 2 3 4 5} --> trimed 1 and 5 then --> (2+3+4)/3\n",
    "\n",
    "**Robust**\n",
    "+ Not sensitive to extreme values.\n",
    "+ Synonyms: resistant\n",
    "\n",
    "**Outlier**\n",
    "+ A data value that is very different from most of the data.(Extreme case)\n",
    "+ Synonyms: extreme value"
   ]
  },
  {
   "cell_type": "markdown",
   "metadata": {},
   "source": [
    "#### Key Ideas\n",
    "+ 1.The basic metric for location is the mean, but it can be sensitive to extreme values (outlier)\n",
    "+ 2.Other metrics (median, trimmed mean) are more robust"
   ]
  },
  {
   "cell_type": "markdown",
   "metadata": {},
   "source": [
    "***"
   ]
  },
  {
   "cell_type": "markdown",
   "metadata": {},
   "source": [
    "## Estimetes of Variability \n",
    "### Key Terms for Variability Metrics"
   ]
  },
  {
   "cell_type": "markdown",
   "metadata": {},
   "source": [
    "**Deviations**\n",
    "+ The difference between the observed values and the estimate of location.\n",
    "+ Synonyms: errors, residuals.\n",
    "\n",
    "**Variance**\n",
    "+ The sum of squared deviations from the mean divided by N-1 where N is the number of data values.\n",
    "+ Synonyms: mean-squared-error.\n",
    "\n",
    "**Standard Deviation**\n",
    "+ The square root of the variance.\n",
    "+ Synonyms: 12-norm, Euclidean norm\n",
    "\n",
    "**Mean Absolute Deviation**\n",
    "+ The mean of the absolute value of the deviations from the mean.\n",
    "+ Synonyms: 11-norm, Manhattan norm\n",
    "\n",
    "**Median Absolute Deviation from the Median**\n",
    "+ The median of the absolute value of the deviations from the median.\n",
    "\n",
    "**Range**\n",
    "+ The difference between the largest and the smallest value in a data set.\n",
    "\n",
    "**Order Statistics**\n",
    "+ Metrics based on the data values sorted from smallest to biggest.\n",
    "+ Synonyms: ranks\n",
    "\n",
    "**Percentile**\n",
    "+ The value such that P percent of the values take on this value or less and (100-P) percent take on this value or more.\n",
    "+ Synonyms: quantile\n",
    "\n",
    "**Interquartile Range**\n",
    "+ The difference between the 75 percentile and the 25th percentile\n",
    "+ Synonyms: IQR"
   ]
  },
  {
   "cell_type": "markdown",
   "metadata": {},
   "source": [
    "#### Standard Deviation and Related Estimates\n",
    "EX: data {1, 4, 4}\n",
    "mean is 3 \n",
    "median is 4\n",
    "\n",
    "The deviations is\n",
    "1-3 = -2, 4-3 = 1, 4-3 = 1\n",
    "\n",
    "These deviations tell us how dispersed the data is around the central value.\n",
    "\n",
    "Mean Absolution Deviation = (2+1+1)/3 = 1.33\n",
    "\n",
    "Variance = s** 2 = ∑ (x − xbar)**2 / N-1\n",
    "\n",
    "Standard Deviation = s = sqr(Variance)\n",
    "\n",
    "+ The standard deviation is much easier to interpret than the variance since it is on the same scale as the original data.\n",
    "+ more convenient than absolute values.\n",
    "\n"
   ]
  },
  {
   "cell_type": "markdown",
   "metadata": {},
   "source": [
    "***Degrees of Freedome, and N or N-1?***\n",
    "+ N will underestimate the true value of SD in population\n",
    "\n",
    "+ This is refered to as a biased estimated\n",
    "\n",
    "+ N-1 SD becomes an unbiased estimated\n",
    "\n",
    "+ Neither the variance, SD, mean absolute deviation are robust to outliers and extreme values.\n",
    "\n",
    "+ An robust estimate of variability is median absolute deviation from the median (MAD)\n",
    "\n",
    "MAD = Median(|x1 - m|, |x2 - m|,...,|xn - m|)\n",
    "\n",
    "where m is the median"
   ]
  },
  {
   "cell_type": "markdown",
   "metadata": {},
   "source": [
    "#### Estimates Based on Percentiles"
   ]
  },
  {
   "cell_type": "markdown",
   "metadata": {},
   "source": [
    "**Interquartile range (IQR)**"
   ]
  },
  {
   "cell_type": "markdown",
   "metadata": {},
   "source": [
    "Ex: 3,1,5,3,6,7,2,9\n",
    "\n",
    "sort to get 1,2,3,3,5,6,7,9\n",
    "\n",
    "25th percentile is at 2.5\n",
    "\n",
    "75th percentile is at 6.5\n",
    "\n",
    "the interquartile range is 6.5 - 2.5 = 4"
   ]
  },
  {
   "cell_type": "markdown",
   "metadata": {},
   "source": [
    "Ex: Test score\n",
    "\n",
    "Number 3,5,7,8,9,11,13,15\n",
    "\n",
    "Rank 1,2,3,4,5,6,7,8\n",
    "\n",
    "***Compute rank of 25th percentile***\n",
    "\n",
    "R = (P/100) * (N + 1)\n",
    "\n",
    "R = (25/100) * (8 + 1) = 2.25\n",
    "\n",
    "***if R not an integer***\n",
    "\n",
    "1. Take number of left from R IR is 2\n",
    "2. FR is 0.25 as fractional\n",
    "3. find rank IR + 1 is 2 + 1 = 3\n",
    "4. Take score from rank 2,3 is 5,7\n",
    "5. cal by (0.25) * (7-5) + 5 = 5.5\n",
    "\n",
    "***Caution!***\n",
    "+ FR does not generally equal the percentile to be computed as it does here\n",
    "\n"
   ]
  },
  {
   "cell_type": "markdown",
   "metadata": {},
   "source": []
  }
 ],
 "metadata": {
  "kernelspec": {
   "display_name": "Python 3.9.9 64-bit",
   "language": "python",
   "name": "python3"
  },
  "language_info": {
   "name": "python",
   "version": "3.9.9"
  },
  "orig_nbformat": 4,
  "vscode": {
   "interpreter": {
    "hash": "aee8b7b246df8f9039afb4144a1f6fd8d2ca17a180786b69acc140d282b71a49"
   }
  }
 },
 "nbformat": 4,
 "nbformat_minor": 2
}
