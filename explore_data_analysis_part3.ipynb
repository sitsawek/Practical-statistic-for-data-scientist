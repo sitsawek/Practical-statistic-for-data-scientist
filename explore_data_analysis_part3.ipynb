{
 "cells": [
  {
   "cell_type": "markdown",
   "metadata": {},
   "source": [
    "***"
   ]
  },
  {
   "cell_type": "markdown",
   "metadata": {},
   "source": [
    "**<center><font size = \"6\">Data and Sampling Distributions<center>**\n",
    "***\n",
    "<center><font size = \"2\">Prepared by: Sitsawek Sukorn<center>"
   ]
  },
  {
   "cell_type": "markdown",
   "metadata": {},
   "source": [
    "- Population which in statistics is assumed to follow an underlying but **unknown** distribution.\n",
    "\n",
    "- The only thing available is ***sample*** data and its empirical distributions.\n",
    "\n",
    "- Traditional statistics focused very much on using theory based on strong assumptions about the population.\n",
    "\n",
    "- Modern statistics has moved to where such assumptions are not needed.\n",
    "\n",
    "- Data scientists need not worry about the theoretical nature of populations, and instead focus on the sampling procedures and the data at hand."
   ]
  },
  {
   "cell_type": "markdown",
   "metadata": {},
   "source": [
    "## Random sampling and sample bisas\n",
    "### Key Terms for Random Sampling"
   ]
  },
  {
   "cell_type": "markdown",
   "metadata": {},
   "source": [
    "**Sample**\n",
    "- A subset from a larger dataset\n",
    "\n",
    "**Population**\n",
    "- The larger dataset, or idea of a dataset\n",
    "\n",
    "**N (n)**\n",
    "- The size of the population (sample)\n",
    "\n",
    "**Random sampling**\n",
    "- Drawing elements into a sample at random\n",
    "\n",
    "**Stratified sampling**\n",
    "- Dividing the population into strata and randomly sampling from each strata.\n",
    "\n",
    "**Simple random sample**\n",
    "- The sample that results from random sampling without stratifying the population.\n",
    "\n",
    "**Sample bias**\n",
    "- A sample that misrepresents the population"
   ]
  },
  {
   "cell_type": "markdown",
   "metadata": {},
   "source": [
    "#### Example of random sampling\n",
    "- Literary Digest poll of 1936 that predicted a victory of Alf Landon against Franklin Roosevelt.\n",
    "\n",
    "- Poll results is Landon 57%, Roosevelt 43%\n",
    "\n",
    "- Actually is Landon 38%, Roosevelt 62%\n",
    "\n",
    "- 2 major flaws of the poll\n",
    "\n",
    "- 1.The sample not representative of population --> surveys were only send to **subscribers** and people who owned **cars** and **phone** those americans tended to be **weathier** and more **republican**, especially during the **depression**\n",
    "\n",
    "- 2.Low response rate --> less than a quater of the sample responsed, not everyone has time to response to a survey, the poll only collected views of the types of people with enough time to respond\n",
    "\n",
    "- Today, polls use smaller and more **representative** samples of about 1,000 people\n"
   ]
  },
  {
   "cell_type": "markdown",
   "metadata": {},
   "source": [
    "Note: Random sampling is a process in which each available member of the population being sampled has an **equal chance of being chosen for the sample at each draw.**"
   ]
  },
  {
   "cell_type": "markdown",
   "metadata": {},
   "source": [
    "### Bias"
   ]
  },
  {
   "cell_type": "markdown",
   "metadata": {},
   "source": [
    "- Statistical bias refers to measurement or sampling errors that are systematic and produced by the measurement or sampling process.\n",
    "\n",
    "- An unbiased process will produce error, but it random and does not tend strongly in any direction.\n",
    "\n",
    "- When a result does suggest bias it is often an indicator that a statistical or machine learning model has been misspecified."
   ]
  },
  {
   "cell_type": "markdown",
   "metadata": {},
   "source": [
    "### Random Selection"
   ]
  },
  {
   "cell_type": "markdown",
   "metadata": {},
   "source": [
    "- To avoid the problem of sample bias there are now a variety of methods to achieve representativeness, but at the heart of all of them lies ***random sampling***"
   ]
  },
  {
   "cell_type": "markdown",
   "metadata": {},
   "source": [
    "- Proper definition of an accessible population is key"
   ]
  },
  {
   "cell_type": "markdown",
   "metadata": {},
   "source": [
    "- **Example** we want to generate a representative profile of customers and we need to conduct a pilot customer survey"
   ]
  },
  {
   "cell_type": "markdown",
   "metadata": {},
   "source": [
    "- First we need to define who is a customer. We might select all customer records where purchase amount > 0."
   ]
  },
  {
   "cell_type": "markdown",
   "metadata": {},
   "source": [
    "- Next we need to specify a sampling procedure. It might be **\"select 100 customers at random.\"** Where a sampling from a flow is involved, timing considerations maybe important."
   ]
  },
  {
   "cell_type": "markdown",
   "metadata": {},
   "source": [
    "- In stratified sampling, the population is divided up into strata, and random samples are taken from **each stratum.**"
   ]
  },
  {
   "cell_type": "markdown",
   "metadata": {},
   "source": [
    "- A simple random sample taken from the population would yield **too few blacks and hispanics,** so those strata could be overweighted in stratified sampling to yield equivalent sample sizes."
   ]
  },
  {
   "cell_type": "markdown",
   "metadata": {},
   "source": [
    "### Size Versus Quality"
   ]
  },
  {
   "cell_type": "markdown",
   "metadata": {},
   "source": [
    "- Random sampling not only reduce bias.\n",
    "\n",
    "- Also allow greater attention to data quality.\n",
    "\n",
    "- It might be prohibitively expensive to track down missing values, or evaluate outliers, in millions of records.\n",
    "\n",
    "- But doing so in a sample of several thousand records may be feasible.\n",
    "\n",
    "- The flip side of this effect is when you have sparse data.\n",
    "\n",
    "- Keep in mind that the number of actual ***pertinent records*** - ones in which this exact search query, or something very similar, appears."
   ]
  },
  {
   "cell_type": "markdown",
   "metadata": {},
   "source": [
    "### Sample Mean Versus Population Mean"
   ]
  },
  {
   "cell_type": "markdown",
   "metadata": {},
   "source": [
    "- x-bar is used for mean of sample\n",
    "\n",
    "- μ is used for mean of population\n",
    "\n",
    "- Why make the distinction?\n",
    "\n",
    "- samples is **observed**\n",
    "\n",
    "- information about large populatios is often **inferred** from smaller samples.\n",
    "\n",
    "- Statisticians like to keep the two things separate in the symbology."
   ]
  },
  {
   "cell_type": "markdown",
   "metadata": {},
   "source": [
    "#### Key Ideas\n",
    "\n",
    "- Even in the era of Big Data, random sampling remains an important arrow in the data scientist's quiver\n",
    "\n",
    "- Bias occurs when measurements or observations are **systematically** in error because they are not representative of the full population\n",
    "\n",
    "- Data quality is often more important than data quantity, and random sampling can reduce bias and facilitate quality improvement that would be prohibitively expensive"
   ]
  },
  {
   "cell_type": "markdown",
   "metadata": {},
   "source": [
    "#### Sampling Methods for Web and E-mail Surveys"
   ]
  },
  {
   "cell_type": "markdown",
   "metadata": {},
   "source": [
    "**WHY SAMPLE**\n",
    "- Impossible to survey an entire population, perhaps owning to either cost constraints or some other practical constraint.\n",
    "\n",
    "- Sample must be drawn in such a fashion that one can both calculate appropriate sample statistic and estimate their standard errors."
   ]
  },
  {
   "cell_type": "markdown",
   "metadata": {},
   "source": [
    "***A survey administered to a sample can have a number of advantages over a census, including:***\n",
    "- lower cost\n",
    "- less effort to administer\n",
    "- better response rates\n",
    "- greater accuracy."
   ]
  },
  {
   "cell_type": "markdown",
   "metadata": {},
   "source": [
    "***Greater survey accuracy can result when the sampling error is morethan offset by a decrease in nonresponse and other biases, perhaps due to increased respnse rates***"
   ]
  },
  {
   "cell_type": "markdown",
   "metadata": {},
   "source": [
    "***More effort invested in survey design and pre-testing, or perhaps via more detailed non-response follow-up***"
   ]
  },
  {
   "cell_type": "markdown",
   "metadata": {},
   "source": [
    "***for simply surveying large numbers of individuals are without regard to how the individuals are recruited into the sample, result is a proliferation of poorly conducted 'censused' and surveys based on large convenience samples that are likely to yield less accurate information than a well conducted survey of a smaller sample.***"
   ]
  },
  {
   "cell_type": "markdown",
   "metadata": {},
   "source": []
  }
 ],
 "metadata": {
  "kernelspec": {
   "display_name": "Python 3.9.9 64-bit",
   "language": "python",
   "name": "python3"
  },
  "language_info": {
   "name": "python",
   "version": "3.9.9"
  },
  "orig_nbformat": 4,
  "vscode": {
   "interpreter": {
    "hash": "aee8b7b246df8f9039afb4144a1f6fd8d2ca17a180786b69acc140d282b71a49"
   }
  }
 },
 "nbformat": 4,
 "nbformat_minor": 2
}
