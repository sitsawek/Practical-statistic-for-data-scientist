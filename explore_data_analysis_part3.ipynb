{
 "cells": [
  {
   "cell_type": "markdown",
   "metadata": {},
   "source": [
    "***"
   ]
  },
  {
   "cell_type": "markdown",
   "metadata": {},
   "source": [
    "**<center><font size = \"6\">Data and Sampling Distributions<center>**\n",
    "***\n",
    "<center><font size = \"2\">Prepared by: Sitsawek Sukorn<center>"
   ]
  },
  {
   "cell_type": "markdown",
   "metadata": {},
   "source": [
    "- Population which in statistics is assumed to follow an underlying but **unknown** distribution.\n",
    "\n",
    "- The only thing available is ***sample*** data and its empirical distributions.\n",
    "\n",
    "- Traditional statistics focused very much on using theory based on strong assumptions about the population.\n",
    "\n",
    "- Modern statistics has moved to where such assumptions are not needed.\n",
    "\n",
    "- Data scientists need not worry about the theoretical nature of populations, and instead focus on the sampling procedures and the data at hand."
   ]
  },
  {
   "cell_type": "markdown",
   "metadata": {},
   "source": [
    "## Random sampling and sample bisas\n",
    "### Key Terms for Random Sampling"
   ]
  },
  {
   "cell_type": "markdown",
   "metadata": {},
   "source": [
    "**Sample**\n",
    "- A subset from a larger dataset\n",
    "\n",
    "**Population**\n",
    "- The larger dataset, or idea of a dataset\n",
    "\n",
    "**N (n)**\n",
    "- The size of the population (sample)\n",
    "\n",
    "**Random sampling**\n",
    "- Drawing elements into a sample at random\n",
    "\n",
    "**Stratified sampling**\n",
    "- Dividing the population into strata and randomly sampling from each strata.\n",
    "\n",
    "**Simple random sample**\n",
    "- The sample that results from random sampling without stratifying the population.\n",
    "\n",
    "**Sample bias**\n",
    "- A sample that misrepresents the population"
   ]
  },
  {
   "cell_type": "markdown",
   "metadata": {},
   "source": [
    "#### Example of random sampling\n",
    "- Literary Digest poll of 1936 that predicted a victory of Alf Landon against Franklin Roosevelt.\n",
    "\n",
    "- Poll results is Landon 57%, Roosevelt 43%\n",
    "\n",
    "- Actually is Landon 38%, Roosevelt 62%\n",
    "\n",
    "- 2 major flaws of the poll\n",
    "\n",
    "- 1.The sample not representative of population --> surveys were only send to **subscribers** and people who owned **cars** and **phone** those americans tended to be **weathier** and more **republican**, especially during the **depression**\n",
    "\n",
    "- 2.Low response rate --> less than a quater of the sample responsed, not everyone has time to response to a survey, the poll only collected views of the types of people with enough time to respond\n",
    "\n",
    "- Today, polls use smaller and more **representative** samples of about 1,000 people\n"
   ]
  },
  {
   "cell_type": "markdown",
   "metadata": {},
   "source": [
    "Note: Random sampling is a process in which each available member of the population being sampled has an **equal chance of being chosen for the sample at each draw.**"
   ]
  },
  {
   "cell_type": "markdown",
   "metadata": {},
   "source": [
    "### Bias"
   ]
  },
  {
   "cell_type": "markdown",
   "metadata": {},
   "source": [
    "- Statistical bias refers to measurement or sampling errors that are systematic and produced by the measurement or sampling process.\n",
    "\n",
    "- An unbiased process will produce error, but it random and does not tend strongly in any direction.\n",
    "\n",
    "- When a result does suggest bias it is often an indicator that a statistical or machine learning model has been misspecified."
   ]
  },
  {
   "cell_type": "markdown",
   "metadata": {},
   "source": [
    "### Random Selection"
   ]
  },
  {
   "cell_type": "markdown",
   "metadata": {},
   "source": [
    "- To avoid the problem of sample bias there are now a variety of methods to achieve representativeness, but at the heart of all of them lies ***random sampling***"
   ]
  },
  {
   "cell_type": "markdown",
   "metadata": {},
   "source": [
    "- Proper definition of an accessible population is key"
   ]
  },
  {
   "cell_type": "markdown",
   "metadata": {},
   "source": [
    "- **Example** we want to generate a representative profile of customers and we need to conduct a pilot customer survey"
   ]
  },
  {
   "cell_type": "markdown",
   "metadata": {},
   "source": [
    "- First we need to define who is a customer. We might select all customer records where purchase amount > 0."
   ]
  },
  {
   "cell_type": "markdown",
   "metadata": {},
   "source": [
    "- Next we need to specify a sampling procedure. It might be **\"select 100 customers at random.\"** Where a sampling from a flow is involved, timing considerations maybe important."
   ]
  },
  {
   "cell_type": "markdown",
   "metadata": {},
   "source": [
    "- In stratified sampling, the population is divided up into strata, and random samples are taken from **each stratum.**"
   ]
  },
  {
   "cell_type": "markdown",
   "metadata": {},
   "source": [
    "- A simple random sample taken from the population would yield **too few blacks and hispanics,** so those strata could be overweighted in stratified sampling to yield equivalent sample sizes."
   ]
  },
  {
   "cell_type": "markdown",
   "metadata": {},
   "source": [
    "### Size Versus Quality"
   ]
  },
  {
   "cell_type": "markdown",
   "metadata": {},
   "source": [
    "- Random sampling not only reduce bias.\n",
    "\n",
    "- Also allow greater attention to data quality.\n",
    "\n",
    "- It might be prohibitively expensive to track down missing values, or evaluate outliers, in millions of records.\n",
    "\n",
    "- But doing so in a sample of several thousand records may be feasible.\n",
    "\n",
    "- The flip side of this effect is when you have sparse data.\n",
    "\n",
    "- Keep in mind that the number of actual ***pertinent records*** - ones in which this exact search query, or something very similar, appears."
   ]
  },
  {
   "cell_type": "markdown",
   "metadata": {},
   "source": [
    "### Sample Mean Versus Population Mean"
   ]
  },
  {
   "cell_type": "markdown",
   "metadata": {},
   "source": [
    "- x-bar is used for mean of sample\n",
    "\n",
    "- μ is used for mean of population\n",
    "\n",
    "- Why make the distinction?\n",
    "\n",
    "- samples is **observed**\n",
    "\n",
    "- information about large populatios is often **inferred** from smaller samples.\n",
    "\n",
    "- Statisticians like to keep the two things separate in the symbology."
   ]
  },
  {
   "cell_type": "markdown",
   "metadata": {},
   "source": [
    "#### Key Ideas\n",
    "\n",
    "- Even in the era of Big Data, random sampling remains an important arrow in the data scientist's quiver\n",
    "\n",
    "- Bias occurs when measurements or observations are **systematically** in error because they are not representative of the full population\n",
    "\n",
    "- Data quality is often more important than data quantity, and random sampling can reduce bias and facilitate quality improvement that would be prohibitively expensive"
   ]
  },
  {
   "cell_type": "markdown",
   "metadata": {},
   "source": [
    "***"
   ]
  },
  {
   "cell_type": "markdown",
   "metadata": {},
   "source": [
    "#### Sampling Methods for Web and E-mail Surveys"
   ]
  },
  {
   "cell_type": "markdown",
   "metadata": {},
   "source": [
    "**WHY SAMPLE**\n",
    "- Impossible to survey an entire population, perhaps owning to either cost constraints or some other practical constraint.\n",
    "\n",
    "- Sample must be drawn in such a fashion that one can both calculate appropriate sample statistic and estimate their standard errors."
   ]
  },
  {
   "cell_type": "markdown",
   "metadata": {},
   "source": [
    "***A survey administered to a sample can have a number of advantages over a census, including:***\n",
    "- lower cost\n",
    "- less effort to administer\n",
    "- better response rates\n",
    "- greater accuracy."
   ]
  },
  {
   "cell_type": "markdown",
   "metadata": {},
   "source": [
    "***Greater survey accuracy can result when the sampling error is morethan offset by a decrease in nonresponse and other biases, perhaps due to increased response rates***"
   ]
  },
  {
   "cell_type": "markdown",
   "metadata": {},
   "source": [
    "***More effort invested in survey design and pre-testing, or perhaps via more detailed non-response follow-up***"
   ]
  },
  {
   "cell_type": "markdown",
   "metadata": {},
   "source": [
    "***for simply surveying large numbers of individuals are without regard to how the individuals are recruited into the sample, result is a proliferation of poorly conducted 'censused' and surveys based on large convenience samples that are likely to yield less accurate information than a well conducted survey of a smaller sample.***"
   ]
  },
  {
   "cell_type": "markdown",
   "metadata": {},
   "source": [
    "**AN OVERVIEW OF SAMPLING**"
   ]
  },
  {
   "cell_type": "markdown",
   "metadata": {},
   "source": [
    "- Data consistent with the result rather than matches the population in terms of observable characteristics."
   ]
  },
  {
   "cell_type": "markdown",
   "metadata": {},
   "source": [
    "**Sources of error in surveys**"
   ]
  },
  {
   "cell_type": "markdown",
   "metadata": {},
   "source": [
    "- A good survey design seeks to reduce all types of error.\n",
    "\n",
    "- Errors of coverage occur when some part of the population cannot be included in the sample."
   ]
  },
  {
   "cell_type": "markdown",
   "metadata": {},
   "source": [
    "Sources of survey error according to Groves (1989)\n",
    "\n",
    "**Type of error : Definition**\n",
    "\n",
    "**Coverage**: the failure to give any chance of sample selection to some persons in population.\n",
    "\n",
    "**Sampling**: heterogeneity on the survey measure among persons in the population.\n",
    "\n",
    "**Nonresponse**: the failure to collect data on all persons in the sample.\n",
    "\n",
    "**Measurement**: inaccuracies in responses recorded on the survey instruments."
   ]
  },
  {
   "cell_type": "markdown",
   "metadata": {},
   "source": [
    "**--> Errors of coverage**: occur when some part of the population connot be included in the sample\n",
    "\n",
    "Groves specifies three different populations:\n",
    "\n",
    "1. The ***population of inference*** is the population that the researcher ultimately intends to draw conclusions about.\n",
    "\n",
    "2. The ***target population*** is the population of inference less various groups that the researcher has chosen to disregard.\n",
    "\n",
    "3. The ***frame population*** is that portion of the target population which the survey materials or devices delimit, identify, and subsequently allow access to(Wright and Tsao, 1983)"
   ]
  },
  {
   "cell_type": "markdown",
   "metadata": {},
   "source": [
    "Coverage error is the difference between the frame population and the population of inference.\n",
    "\n",
    "The two most common approaches to reducing coverage error are:\n",
    "\n",
    "- obtaining as complete a sampling frame as posible (or emplying a *frameless sampling strategy* in which most or all of the target population has a positive chance of being sampled)\n",
    "\n",
    "- post-stratifying to weight the survey sample to match the population of inference on some observed key characteristics."
   ]
  },
  {
   "cell_type": "markdown",
   "metadata": {},
   "source": [
    "**--> Sampling error**: arises when a sample of the target population is surveyed.It results from the fact that different samples will generate different survey data.\n",
    "\n",
    "reduced by: increasing the sample size."
   ]
  },
  {
   "cell_type": "markdown",
   "metadata": {},
   "source": [
    "**--> Nonresponse erros**: occurr when data is not collected on either entire repondants(unit nonresponse) or individual survey questions(item nonresponse.)\n",
    "\n",
    "- The response rate which is the ratio of the number of survey respondents to the number sampled.\n",
    "\n",
    "- is often taken as a measure of how well the survey results can be generalized.\n",
    "\n",
    "- Higher response rates are taken to imply a lower likelihood of nonresponse bias."
   ]
  },
  {
   "cell_type": "markdown",
   "metadata": {},
   "source": [
    "**--> Measurement error**: arises when the survey response differs from the 'true' response.\n",
    "\n",
    "Ex: respondents may not answer sensitive questions **honestly** for a variety of reasons, or respondents may misinterpret or make errors in answering questions.\n",
    "\n",
    "reduced by: including careful testing and revision of the survey instrument and questions, choice of survey mode or modes, etc."
   ]
  },
  {
   "cell_type": "markdown",
   "metadata": {},
   "source": [
    "**Sampling methods**"
   ]
  },
  {
   "cell_type": "markdown",
   "metadata": {},
   "source": [
    "**Probability-based sampling**\n",
    "- Simple random sampling (SRS) --> selects n units out of a population of size N such that every sample of size n has an equal chance of being drawn.\n",
    "- Stratified random sampling --> first stratify the population into the homogeneous groups and then use SRS to draw samples from each group.\n",
    "- Cluster sampling --> first sample by discussion gorups or internet domains, and then to sample individual users within the groups or domains.\n",
    "- Systematic sampling --> can be used to sample sequential visitors to a website, the resulting sample is considered to be a probability sample as long as the sampling interval does not coincide with a pattern in the sequence being sampled and a random starting point is chosen.\n",
    "\n",
    "**Non-probability sampling**\n",
    "- occur when either the probability that every unit or respondent included in the sample cannot be determined, or it is left up to each individual to choose to participate in the survey.\n",
    "\n",
    "- bias has the potential to be much greater, since it is likely that those who opt in are not representative of the general population.\n",
    "\n",
    "- often require much less time and effort, but do not support statistical inference.\n",
    "\n",
    "Specific types of non-probability samples\n",
    "1. Quota sampling --> specify quotas for the desired number of respondents with certain characteristics.\n",
    "2. Snowball sampling --> desired sample characteristic is so rare that it is extremely difficult to locate a sufficiently large number of respondents.\n",
    "3. Judgement sampling --> selects the sample based on his or her judgement."
   ]
  },
  {
   "cell_type": "markdown",
   "metadata": {},
   "source": [
    "**Bias versus variance**\n",
    "- If a sample is systematically not representative of the population of inference in some way, then the resulting analysis is biased.\n",
    "\n",
    "- Randomization is used to minimize the chance of bias.\n",
    "\n",
    "- *Variance*, on the other hand, is simply a measure of variation in the observed data., It is used to calculate the *standard error* of a statistic."
   ]
  },
  {
   "cell_type": "markdown",
   "metadata": {},
   "source": [
    "**Some important source of bias**\n",
    "- probability-based sampling is assumed to minimize the possibility of bias.\n",
    "\n",
    "- Convenience sampling is generally assumed to have a higher likelihood of generating a biased sample.\n",
    "\n",
    "- However even with randomization surveys of and about people may be subject to other kinds of bias.\n",
    "\n",
    "- Ex: respondents may be inclined to over-or understate certain things('sensitivity bias'), particularly with socially delicate questions (about income, sexual orientation)\n",
    "\n",
    "- Here som of more common sources of bias.\n",
    "\n",
    "1. *Frame coverage bias* ex: an e-mail survey using a list of e-mail addresses will miss those without an e-mail address.\n",
    "\n",
    "2. *Selection bias* ex: if survey participation depends on the respondents having access to particular equipment, such as internet-based surveys that miss those without internet access.\n",
    "\n",
    "3. *Size bias* ex: frequent site visitors are more likely to get selected into the sample.\n",
    "\n",
    "4. *Nonresponse bias* ex: if those who refuse to answers the survey are somehow systematically different from those who do answer it. \n"
   ]
  },
  {
   "cell_type": "markdown",
   "metadata": {},
   "source": [
    "**Historical survey gaffes**"
   ]
  },
  {
   "cell_type": "markdown",
   "metadata": {},
   "source": [
    "- \"Literary Digest 1936\" case"
   ]
  },
  {
   "cell_type": "markdown",
   "metadata": {},
   "source": [
    "**SAMPLING METHODS FOR INTERNET-BASED SURVEYS**"
   ]
  },
  {
   "cell_type": "markdown",
   "metadata": {},
   "source": [
    "**Types of Internet-based survey and associated sampling methods**"
   ]
  },
  {
   "cell_type": "markdown",
   "metadata": {},
   "source": [
    "| Sampling method | Web | E-mail |\n",
    "| - | - | - |\n",
    "| **Probability-base** |  |  |\n",
    "| Surveys using a list-based sampling frame | Y | Y |\n",
    "| Surveys using non-list-based random sampling | Y | Y |\n",
    "| Intercept (pop-up) surveys | Y |  |\n",
    "| Mixed-mode surveys with Internet-based option | Y | Y |\n",
    "| Pre-recruited panel surveys | Y | Y |\n",
    "| **Non-probability** |  |  |\n",
    "| Entertainment polls | Y |  |\n",
    "| Unrestricted self-selected surveys | Y |  |\n",
    "| Surveys using 'harvested' e-mail lists (and data) | Y | Y |\n",
    "| Surveys using volunteer (opt-in) panels | Y |  |"
   ]
  },
  {
   "cell_type": "markdown",
   "metadata": {},
   "source": [
    "**Surveys using a list-based sampling**"
   ]
  },
  {
   "cell_type": "markdown",
   "metadata": {},
   "source": [
    "- Contact information on each unit in the sampling frame.\n"
   ]
  },
  {
   "cell_type": "markdown",
   "metadata": {},
   "source": [
    "**Surveys using non-list-based random sampling**\n",
    "- Selection of a probability-based sample without the need to actually enumerate a sampling frame."
   ]
  },
  {
   "cell_type": "markdown",
   "metadata": {},
   "source": [
    "**Intercept surveys**\n",
    "- Intercept surveys on the web are pop up surveys that frequently use systematic sampling for every kth visitor to a website or web page."
   ]
  },
  {
   "cell_type": "markdown",
   "metadata": {},
   "source": [
    "**Pre-recruited panel surveys**\n",
    "- Generally speaking, groups of indiviuals who have agreed in advance to participate in a series of surveys."
   ]
  },
  {
   "cell_type": "markdown",
   "metadata": {},
   "source": [
    "**Entertainment polls**\n",
    "- 'surveys' conducted purely for their entertainment value (though they are sometimes passed off to be more than what they are)."
   ]
  },
  {
   "cell_type": "markdown",
   "metadata": {},
   "source": [
    "**Surveys using 'Harvested' e-mail lists**\n",
    "- sets of e-mail addresses collected from postings on the web and from individuals who are (wittingly or unwittingly) solicited for their e-mail addresses."
   ]
  },
  {
   "cell_type": "markdown",
   "metadata": {},
   "source": [
    "**Unrestricted self-selected surveys**\n",
    "- surveys that are open to the public for anyone to participate in."
   ]
  },
  {
   "cell_type": "markdown",
   "metadata": {},
   "source": [
    "**Volunteer (opt-in) panels**\n",
    "- similar in concept to the pre-recruited panels, except the volunteers are not recruited using a probability-based method."
   ]
  },
  {
   "cell_type": "markdown",
   "metadata": {},
   "source": [
    "**ISSUES AND CHALLENGES IN INTERNET-BASED SURVEY SAMPLING**\n"
   ]
  },
  {
   "cell_type": "markdown",
   "metadata": {},
   "source": [
    "**Sampling Frame and Coverage Challenges**\n",
    "- The unstructured nature of the internet means that even if one could tolerate the multitude of undeliverable e-mail messages that would result, they would not be useful as the basis for a probability sample.\n",
    "- If the target of inference is the general public, considerable coverage error remains for any sample drawn stricly from internet users."
   ]
  },
  {
   "cell_type": "markdown",
   "metadata": {},
   "source": [
    "**Mixed-mode surveys using internet-based and traditional media**\n",
    "- The most effective use of the Web at the moment seems to involve a sequential fielding scheme in which respondants are first encouraged to complete the survey via the Web and then nonrespondents are subsequently sent a paper survey in the mail. This approach has the advantage of maximizing the potential for cost savings from using internet while maintaining the population coverage and response rates of mail survey."
   ]
  },
  {
   "cell_type": "markdown",
   "metadata": {},
   "source": [
    "**As reported in Dillman (2007), using an alternate survey mode as a follow-up to an initial survey mode can result in higher overall response rates**"
   ]
  },
  {
   "cell_type": "markdown",
   "metadata": {},
   "source": [
    "| Initial survey mode and response rate | Follow-up survey mode and combined response rate | Response rate increase |\n",
    "| - | - | - |\n",
    "| Mail (75%) | Telephone (83%) | 8% |\n",
    "| Telephone (43%) | Mail (80%) | 37% |\n",
    "| IVR**5 (28%) | Telephone (50%) | 22% |\n",
    "| Web (13%) | Telephone (48%) | 35% |"
   ]
  },
  {
   "cell_type": "markdown",
   "metadata": {},
   "source": [
    "**Web-based recruitment issues and effects**\n",
    "- Whether e-mail addresses are constructed, assemble from third-party sources, or harvested directly from the web, there is the issue of unsolicited survey e-mail as spam. "
   ]
  },
  {
   "cell_type": "markdown",
   "metadata": {},
   "source": [
    "**Improving response rates for Internet-based surveys**\n",
    "- Response rates have a direct effect on sampling: the higher the response rate, the fewer people need to be sampled to achieve a desired number of survey completions. In additional, higher response rates are associated with lower nonresponse bias.\n",
    "- Insentives are a common and effective means for increasing response rates in traditional surveys."
   ]
  },
  {
   "cell_type": "markdown",
   "metadata": {},
   "source": [
    "**Bigger samples are not always better**\n",
    "- With internet-based surveys using a list based sampling frame, rather than sending the survey out to a sample, researcher often simply send the survey out to the entire sampling frame.\n",
    "- For both probability and non-probability-based sampled, larger sample size do not neccessarily mean the sample is more representative of any greater population: a sample can be biased whether it is large or small."
   ]
  },
  {
   "cell_type": "markdown",
   "metadata": {},
   "source": [
    "**Misrepresenting convenience samples**\n",
    "- A related and significant concern with non-probability-based sampling methods, both for Internet-based and traditional surveys. is that survey accuracy is characterized only in terms of sampling error and withou regard to potential biases that may be present in the result.\n",
    "- While this has always been a concern with all types of survey, the ease and spread of Internet-base surveys seems to have exacerbated the pratice."
   ]
  },
  {
   "cell_type": "markdown",
   "metadata": {},
   "source": [
    "**IN SUMMARY**"
   ]
  },
  {
   "cell_type": "markdown",
   "metadata": {},
   "source": [
    "- A useful way to summarize which sampling methods apply to which types of Internet-based survey is to group them by respondent 'contact mode'. That is, every survey effort can be classified according to how the respondents are contracted (the contact mode), how they are asked to complete the survey (the response mode), and then how subsequent communication is conducted (the follow-up mode), Each of these can be executed in different media, where the media are telephone, mail, web, e-mail, and so forth.\n",
    "- For example, respondents may be contacted by telephone to participate in a web survey with follow-up done by mail."
   ]
  },
  {
   "cell_type": "markdown",
   "metadata": {},
   "source": []
  }
 ],
 "metadata": {
  "kernelspec": {
   "display_name": "Python 3.9.9 64-bit",
   "language": "python",
   "name": "python3"
  },
  "language_info": {
   "codemirror_mode": {
    "name": "ipython",
    "version": 3
   },
   "file_extension": ".py",
   "mimetype": "text/x-python",
   "name": "python",
   "nbconvert_exporter": "python",
   "pygments_lexer": "ipython3",
   "version": "3.9.9"
  },
  "orig_nbformat": 4,
  "vscode": {
   "interpreter": {
    "hash": "aee8b7b246df8f9039afb4144a1f6fd8d2ca17a180786b69acc140d282b71a49"
   }
  }
 },
 "nbformat": 4,
 "nbformat_minor": 2
}
