{
 "cells": [
  {
   "cell_type": "markdown",
   "metadata": {},
   "source": [
    "***"
   ]
  },
  {
   "cell_type": "markdown",
   "metadata": {},
   "source": [
    "**<center><font size = \"6\">Data and Sampling Distributions<center>**\n",
    "***\n",
    "<center><font size = \"2\">Prepared by: Sitsawek Sukorn<center>"
   ]
  },
  {
   "cell_type": "markdown",
   "metadata": {},
   "source": [
    "- Population which in statistics is assumed to follow an underlying but **unknown** distribution.\n",
    "\n",
    "- The only thing available is ***sample*** data and its empirical distributions.\n",
    "\n",
    "- Traditional statistics focused very much on using theory based on strong assumptions about the population.\n",
    "\n",
    "- Modern statistics has moved to where such assumptions are not needed.\n",
    "\n",
    "- Data scientists need not worry about the theoretical nature of populations, and instead focus on the sampling procedures and the data at hand."
   ]
  },
  {
   "cell_type": "markdown",
   "metadata": {},
   "source": [
    "## Random sampling and sample bisas\n",
    "### Key Terms for Random Sampling"
   ]
  },
  {
   "cell_type": "markdown",
   "metadata": {},
   "source": [
    "**Sample**\n",
    "- A subset from a larger dataset\n",
    "\n",
    "**Population**\n",
    "- The larger dataset, or idea of a dataset\n",
    "\n",
    "**N (n)**\n",
    "- The size of the population (sample)\n",
    "\n",
    "**Random sampling**\n",
    "- Drawing elements into a sample at random\n",
    "\n",
    "**Stratified sampling**\n",
    "- Dividing the population into strata and randomly sampling from each strata.\n",
    "\n",
    "**Simple random sample**\n",
    "- The sample that results from random sampling without stratifying the population.\n",
    "\n",
    "**Sample bias**\n",
    "- A sample that misrepresents the population"
   ]
  },
  {
   "cell_type": "markdown",
   "metadata": {},
   "source": [
    "#### Example of random sampling\n",
    "- Literary Digest poll of 1936 that predicted a victory of Alf Landon against Franklin Roosevelt.\n",
    "\n",
    "- Poll results is Landon 57%, Roosevelt 43%\n",
    "\n",
    "- Actually is Landon 38%, Roosevelt 62%\n",
    "\n",
    "- 2 major flaws of the poll\n",
    "\n",
    "- 1.The sample not representative of population --> surveys were only send to **subscribers** and people who owned **cars** and **phone** those americans tended to be **weathier** and more **republican**, especially during the **depression**\n",
    "\n",
    "- 2.Low response rate --> less than a quater of the sample responsed, not everyone has time to response to a survey, the poll only collected views of the types of people with enough time to respond\n",
    "\n",
    "- Today, polls use smaller and more **representative** samples of about 1,000 people\n"
   ]
  },
  {
   "cell_type": "markdown",
   "metadata": {},
   "source": [
    "Note: Random sampling is a process in which each available member of the population being sampled has an **equal chance of being chosen for the sample at each draw.**"
   ]
  },
  {
   "cell_type": "markdown",
   "metadata": {},
   "source": [
    "### Bias"
   ]
  },
  {
   "cell_type": "markdown",
   "metadata": {},
   "source": [
    "- Statistical bias refers to measurement or sampling errors that are systematic and produced by the measurement or sampling process.\n",
    "\n",
    "- An unbiased process will produce error, but it random and does not tend strongly in any direction.\n",
    "\n",
    "- When a result does suggest bias it is often an indicator that a statistical or machine learning model has been misspecified."
   ]
  },
  {
   "cell_type": "markdown",
   "metadata": {},
   "source": []
  }
 ],
 "metadata": {
  "kernelspec": {
   "display_name": "Python 3.9.9 64-bit",
   "language": "python",
   "name": "python3"
  },
  "language_info": {
   "name": "python",
   "version": "3.9.9"
  },
  "orig_nbformat": 4,
  "vscode": {
   "interpreter": {
    "hash": "aee8b7b246df8f9039afb4144a1f6fd8d2ca17a180786b69acc140d282b71a49"
   }
  }
 },
 "nbformat": 4,
 "nbformat_minor": 2
}
