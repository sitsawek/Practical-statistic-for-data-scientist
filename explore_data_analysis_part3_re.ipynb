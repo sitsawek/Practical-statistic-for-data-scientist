{
 "cells": [
  {
   "cell_type": "markdown",
   "metadata": {},
   "source": [
    "***"
   ]
  },
  {
   "cell_type": "markdown",
   "metadata": {},
   "source": [
    "**<center><font size = \"6\">Data and Sampling Distributions<center>**\n",
    "***\n",
    "<center><font size = \"2\">Prepared by: Sitsawek Sukorn<center>"
   ]
  },
  {
   "cell_type": "markdown",
   "metadata": {},
   "source": [
    "- Population which in statistics is assumed to follow an underlying but **unknown** distribution.\n",
    "\n",
    "- The only thing available is ***sample*** data and its empirical distributions.\n",
    "\n",
    "- Traditional statistics focused very much on using theory based on strong assumptions about the population.\n",
    "\n",
    "- Modern statistics has moved to where such assumptions are not needed.\n",
    "\n",
    "- Data scientists need not worry about the theoretical nature of populations, and instead focus on the sampling procedures and the data at hand."
   ]
  },
  {
   "cell_type": "markdown",
   "metadata": {},
   "source": [
    "## Random sampling and sample bisas\n",
    "### Key Terms for Random Sampling"
   ]
  },
  {
   "cell_type": "markdown",
   "metadata": {},
   "source": [
    "**Sample**\n",
    "- A subset from a larger dataset\n",
    "\n",
    "**Population**\n",
    "- The larger dataset, or idea of a dataset\n",
    "\n",
    "**N (n)**\n",
    "- The size of the population (sample)\n",
    "\n",
    "**Random sampling**\n",
    "- Drawing elements into a sample at random\n",
    "\n",
    "**Stratified sampling**\n",
    "- Dividing the population into strata and randomly sampling from each strata.\n",
    "\n",
    "**Simple random sample**\n",
    "- The sample that results from random sampling without stratifying the population.\n",
    "\n",
    "**Sample bias**\n",
    "- A sample that misrepresents the population"
   ]
  },
  {
   "cell_type": "markdown",
   "metadata": {},
   "source": []
  }
 ],
 "metadata": {
  "kernelspec": {
   "display_name": "Python 3.9.9 64-bit",
   "language": "python",
   "name": "python3"
  },
  "language_info": {
   "codemirror_mode": {
    "name": "ipython",
    "version": 3
   },
   "file_extension": ".py",
   "mimetype": "text/x-python",
   "name": "python",
   "nbconvert_exporter": "python",
   "pygments_lexer": "ipython3",
   "version": "3.9.9"
  },
  "orig_nbformat": 4,
  "vscode": {
   "interpreter": {
    "hash": "aee8b7b246df8f9039afb4144a1f6fd8d2ca17a180786b69acc140d282b71a49"
   }
  }
 },
 "nbformat": 4,
 "nbformat_minor": 2
}
