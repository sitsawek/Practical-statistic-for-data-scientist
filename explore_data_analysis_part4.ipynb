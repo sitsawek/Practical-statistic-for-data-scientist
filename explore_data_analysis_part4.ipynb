{
 "cells": [
  {
   "cell_type": "markdown",
   "metadata": {},
   "source": [
    "***"
   ]
  },
  {
   "cell_type": "markdown",
   "metadata": {},
   "source": [
    "## Selection bias\n",
    "### Key Terms for Selection bias"
   ]
  },
  {
   "cell_type": "markdown",
   "metadata": {},
   "source": [
    "**Bias**\n",
    "- Systematic error\n",
    "\n",
    "**Data Snooping**\n",
    "- Extensive hunting through data in search of something interesting\n",
    "\n",
    "**Massive search effect**\n",
    "- Bias or non-reproducibility resulting from repeated data modeling, or modeling data with large numbers of predictor variables\n"
   ]
  },
  {
   "cell_type": "markdown",
   "metadata": {},
   "source": [
    "\"If you tortune the data long enough, sooner or later it will confess.\""
   ]
  },
  {
   "cell_type": "markdown",
   "metadata": {},
   "source": [
    "Is the result you found truly something interesting, or is it the chance of outlier?"
   ]
  },
  {
   "cell_type": "markdown",
   "metadata": {},
   "source": [
    "--> Use target shuffling (a permutation test, in essence) to test validity of predictive associations that a data mining model suggests."
   ]
  },
  {
   "cell_type": "markdown",
   "metadata": {},
   "source": [
    "#### Regression to the mean"
   ]
  },
  {
   "cell_type": "markdown",
   "metadata": {},
   "source": [
    "- Refer to a phenomenon involving successive measurements on a given variable:\n",
    "    extreme observations tend to be followed be more central ones. Attaching special focus and meaning to the extreme value can lead to a form of selection bias."
   ]
  },
  {
   "cell_type": "markdown",
   "metadata": {},
   "source": [
    "- Regression to the mean is consequence of a particular form of selection bias,\n",
    "- When we select the rookie with the best performance, skill and good luck are probably contributing.\n",
    "Note: Regression to the mean, meaning to \"go back\", is distinct from the statistical modeling method of linear regression,\n",
    "in which a linear relationship is estimated between predictor variables and an outcome variable."
   ]
  },
  {
   "cell_type": "markdown",
   "metadata": {},
   "source": [
    "#### Key Ideas\n",
    "- Specifying a hypothesis, then collecting data following randomization and random sampling principles ensures against bias.\n",
    "- All other forms of data analysis run the risk of bias resulting from the data collection/analysis process (repeated running of models in data mining, data snooping in research, after-the-fact selection of interesting events)"
   ]
  },
  {
   "cell_type": "markdown",
   "metadata": {},
   "source": [
    "***"
   ]
  },
  {
   "cell_type": "markdown",
   "metadata": {},
   "source": [
    "#### Identifying and Avoiding Bias in Research"
   ]
  },
  {
   "cell_type": "markdown",
   "metadata": {},
   "source": [
    "**Evidence-base medicine (EDM)**\n",
    "- to be effective tool, plastic surgeons must critically interpret study results and must also evaluate the rigor of study design and identify study biases.\n",
    "- seek to provide higher quality science to enhance patient safety and outcomes"
   ]
  },
  {
   "cell_type": "markdown",
   "metadata": {},
   "source": [
    "**Definition and scope of bias**\n",
    "- Bias is defined as any tendency which prevents unprejudiced consideration of a question."
   ]
  },
  {
   "cell_type": "markdown",
   "metadata": {},
   "source": []
  }
 ],
 "metadata": {
  "kernelspec": {
   "display_name": "Python 3.9.9 64-bit",
   "language": "python",
   "name": "python3"
  },
  "language_info": {
   "name": "python",
   "version": "3.9.9"
  },
  "orig_nbformat": 4,
  "vscode": {
   "interpreter": {
    "hash": "aee8b7b246df8f9039afb4144a1f6fd8d2ca17a180786b69acc140d282b71a49"
   }
  }
 },
 "nbformat": 4,
 "nbformat_minor": 2
}
