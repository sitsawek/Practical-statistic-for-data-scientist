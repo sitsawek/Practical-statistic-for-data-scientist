{
 "cells": [
  {
   "cell_type": "markdown",
   "metadata": {},
   "source": [
    "***"
   ]
  },
  {
   "cell_type": "markdown",
   "metadata": {},
   "source": [
    "## Selection bias\n",
    "### Key Terms for Selection bias"
   ]
  },
  {
   "cell_type": "markdown",
   "metadata": {},
   "source": [
    "**Bias**\n",
    "- Systematic error\n",
    "\n",
    "**Data Snooping**\n",
    "- Extensive hunting through data in search of something interesting\n",
    "\n",
    "**Massive search effect**\n",
    "- Bias or non-reproducibility resulting from repeated data modeling, or modeling data with large numbers of predictor variables\n"
   ]
  },
  {
   "cell_type": "markdown",
   "metadata": {},
   "source": [
    "\"If you tortune the data long enough, sooner or later it will confess.\""
   ]
  },
  {
   "cell_type": "markdown",
   "metadata": {},
   "source": [
    "Is the result you found truly something interesting, or is it the chance of outlier?"
   ]
  },
  {
   "cell_type": "markdown",
   "metadata": {},
   "source": [
    "--> Use target shuffling (a permutation test, in essence) to test validity of predictive associations that a data mining model suggests."
   ]
  },
  {
   "cell_type": "markdown",
   "metadata": {},
   "source": [
    "#### Regression to the mean"
   ]
  },
  {
   "cell_type": "markdown",
   "metadata": {},
   "source": [
    "- Refer to a phenomenon involving successive measurements on a given variable:\n",
    "    extreme observations tend to be followed be more central ones. Attaching special focus and meaning to the extreme value can lead to a form of selection bias."
   ]
  },
  {
   "cell_type": "markdown",
   "metadata": {},
   "source": [
    "- Regression to the mean is consequence of a particular form of selection bias,\n",
    "- When we select the rookie with the best performance, skill and good luck are probably contributing.\n",
    "Note: Regression to the mean, meaning to \"go back\", is distinct from the statistical modeling method of linear regression,\n",
    "in which a linear relationship is estimated between predictor variables and an outcome variable."
   ]
  },
  {
   "cell_type": "markdown",
   "metadata": {},
   "source": [
    "#### Key Ideas\n",
    "- Specifying a hypothesis, then collecting data following randomization and random sampling principles ensures against bias.\n",
    "- All other forms of data analysis run the risk of bias resulting from the data collection/analysis process (repeated running of models in data mining, data snooping in research, after-the-fact selection of interesting events)"
   ]
  },
  {
   "cell_type": "markdown",
   "metadata": {},
   "source": [
    "***"
   ]
  },
  {
   "cell_type": "markdown",
   "metadata": {},
   "source": [
    "#### Identifying and Avoiding Bias in Research"
   ]
  },
  {
   "cell_type": "markdown",
   "metadata": {},
   "source": [
    "**Evidence-base medicine (EDM)**\n",
    "- to be effective tool, plastic surgeons must critically interpret study results and must also evaluate the rigor of study design and identify study biases.\n",
    "- seek to provide higher quality science to enhance patient safety and outcomes"
   ]
  },
  {
   "cell_type": "markdown",
   "metadata": {},
   "source": [
    "**Definition and scope of bias**\n",
    "- Bias is defined as any tendency which prevents unprejudiced consideration of a question.\n",
    "- In research bias occurs when \"systematic error\" is introduced into sampling or testing by selecting or encouraging one outcome or answer over other.\n",
    "- Bias can occur at any phase of research, including study design or data collection, as well as in the process of data analysis and publication.\n",
    "- Interpretation of bias cannot be limited to a simple inquisition: is bias present or not?\n",
    "- Instead, reviewers of the literature must consider the degree to which bias was prevented by proper study design and implementation.\n",
    "- As some degree of bias is nearly always present in published study, reader must also consider how bias might influence a study's conclusions.\n"
   ]
  },
  {
   "cell_type": "markdown",
   "metadata": {},
   "source": [
    "**Tips to avoid different types of bias during a trial**"
   ]
  },
  {
   "cell_type": "markdown",
   "metadata": {},
   "source": [
    "|Type of Bias|How to Avoid|Occur|\n",
    "| - | - | - |\n",
    "|**Pre-trial bias**|||\n",
    "| Flawed study design | - Clearly define risk and outcome, preferably with objective or<br> validated methods. Standardize and blind data collection.| - The definition of risk and outcome should be clearly defined prior to study implementation. |\n",
    "| Selection bias | - Select patients using rigorous criteria to avoid confounding<br> results Patients should originate from the same general <br> population. Well designed, prospective studies help to avoid <br> selection bias as outcome is unknown at time of enrollment.| - When the criteria used to recruit and enroll patients into<br> separate study cohorts are inherently different.|\n",
    "| Channeling bias | - Assign patients to study cohorts using rigorous criteria. ||\n",
    "| **Bias during trial** |||\n",
    "| Interviewer bias | - Standardize interviewer's interaction with patient. Blind<br> interviewer to explosure status. ||\n",
    "| Chronology bias | - Perspective studies can eliminate chronology bias. Avoid<br>using historic controls (confounding by secular trends). ||\n",
    "| Recall bias | - Use objective data sources whenever possible. When using<br>subjective data sources, corroborate with medical record.<br>Conduct prospective studies because outcome is unknown at<br>time of patient enrollment. ||\n",
    "| Transfer bias | - Carefully design plan for lost-to-followup patients prior to<br>the studies. ||\n",
    "| Exposure Misclassification | - Cleary define exposure prior to study. Avoid using proxies<br>of exposure ||\n",
    "| Outcome Misclassification | - Use objective diagnostic studies or validated measures as<br>primary outcome. ||\n",
    "| Performance bias | - Consider cluster stratification to minimize variability in<br>surgical technique. ||\n",
    "| **Bias after trial** |||\n",
    "| Citation bias | - Register trial with an accepted clinical trials registry. Check<br>registries for similar unpublished or in-progress trials prior to<br>publication. ||\n",
    "| Confounding bias | - Knows confounder can be controlled with study design<br>(case control design or randomization) or during data analysis<br>(regression). Unknown confounders can only be controlled<br>with randomization.||"
   ]
  },
  {
   "cell_type": "markdown",
   "metadata": {},
   "source": [
    "***"
   ]
  },
  {
   "cell_type": "markdown",
   "metadata": {},
   "source": [
    "#### Fooled by Randomness, Over-fitting And Select Bias"
   ]
  },
  {
   "cell_type": "markdown",
   "metadata": {},
   "source": [
    "Here are 3 lessons from Fooled By Randomness:\n",
    "\n",
    "- Life is non-linear, which makes the rewards of continued effort disproportionately big.\n",
    "\n",
    "- We need our irrational emotions to be able to decide.\n",
    "\n",
    "- Enjoy randomness when it’s harmless and use stoicism to deflect it when it’s harmful."
   ]
  },
  {
   "cell_type": "markdown",
   "metadata": {},
   "source": []
  }
 ],
 "metadata": {
  "kernelspec": {
   "display_name": "Python 3.9.9 64-bit",
   "language": "python",
   "name": "python3"
  },
  "language_info": {
   "name": "python",
   "version": "3.9.9"
  },
  "orig_nbformat": 4,
  "vscode": {
   "interpreter": {
    "hash": "aee8b7b246df8f9039afb4144a1f6fd8d2ca17a180786b69acc140d282b71a49"
   }
  }
 },
 "nbformat": 4,
 "nbformat_minor": 2
}
